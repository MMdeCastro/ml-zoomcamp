{
 "cells": [
  {
   "cell_type": "markdown",
   "id": "09a94470",
   "metadata": {},
   "source": [
    "# Session 2. Regression\n",
    "\n",
    "Course info: https://github.com/alexeygrigorev/mlbookcamp-code/tree/master/course-zoomcamp\n",
    "\n",
    "Note: it is good practice to clear the outputs before pushing, however, here the complete notebook is pushed as it is a small notebook and the goal is to see the answers to the questions.\n"
   ]
  },
  {
   "cell_type": "markdown",
   "id": "17ac5485",
   "metadata": {},
   "source": [
    "### EDA"
   ]
  },
  {
   "cell_type": "code",
   "execution_count": 1,
   "id": "8984a083",
   "metadata": {},
   "outputs": [
    {
     "data": {
      "text/html": [
       "<div>\n",
       "<style scoped>\n",
       "    .dataframe tbody tr th:only-of-type {\n",
       "        vertical-align: middle;\n",
       "    }\n",
       "\n",
       "    .dataframe tbody tr th {\n",
       "        vertical-align: top;\n",
       "    }\n",
       "\n",
       "    .dataframe thead th {\n",
       "        text-align: right;\n",
       "    }\n",
       "</style>\n",
       "<table border=\"1\" class=\"dataframe\">\n",
       "  <thead>\n",
       "    <tr style=\"text-align: right;\">\n",
       "      <th></th>\n",
       "      <th>id</th>\n",
       "      <th>name</th>\n",
       "      <th>host_id</th>\n",
       "      <th>host_name</th>\n",
       "      <th>neighbourhood_group</th>\n",
       "      <th>neighbourhood</th>\n",
       "      <th>latitude</th>\n",
       "      <th>longitude</th>\n",
       "      <th>room_type</th>\n",
       "      <th>price</th>\n",
       "      <th>minimum_nights</th>\n",
       "      <th>number_of_reviews</th>\n",
       "      <th>last_review</th>\n",
       "      <th>reviews_per_month</th>\n",
       "      <th>calculated_host_listings_count</th>\n",
       "      <th>availability_365</th>\n",
       "    </tr>\n",
       "  </thead>\n",
       "  <tbody>\n",
       "    <tr>\n",
       "      <th>0</th>\n",
       "      <td>2539</td>\n",
       "      <td>Clean &amp; quiet apt home by the park</td>\n",
       "      <td>2787</td>\n",
       "      <td>John</td>\n",
       "      <td>Brooklyn</td>\n",
       "      <td>Kensington</td>\n",
       "      <td>40.64749</td>\n",
       "      <td>-73.97237</td>\n",
       "      <td>Private room</td>\n",
       "      <td>149</td>\n",
       "      <td>1</td>\n",
       "      <td>9</td>\n",
       "      <td>2018-10-19</td>\n",
       "      <td>0.21</td>\n",
       "      <td>6</td>\n",
       "      <td>365</td>\n",
       "    </tr>\n",
       "    <tr>\n",
       "      <th>1</th>\n",
       "      <td>2595</td>\n",
       "      <td>Skylit Midtown Castle</td>\n",
       "      <td>2845</td>\n",
       "      <td>Jennifer</td>\n",
       "      <td>Manhattan</td>\n",
       "      <td>Midtown</td>\n",
       "      <td>40.75362</td>\n",
       "      <td>-73.98377</td>\n",
       "      <td>Entire home/apt</td>\n",
       "      <td>225</td>\n",
       "      <td>1</td>\n",
       "      <td>45</td>\n",
       "      <td>2019-05-21</td>\n",
       "      <td>0.38</td>\n",
       "      <td>2</td>\n",
       "      <td>355</td>\n",
       "    </tr>\n",
       "    <tr>\n",
       "      <th>2</th>\n",
       "      <td>3647</td>\n",
       "      <td>THE VILLAGE OF HARLEM....NEW YORK !</td>\n",
       "      <td>4632</td>\n",
       "      <td>Elisabeth</td>\n",
       "      <td>Manhattan</td>\n",
       "      <td>Harlem</td>\n",
       "      <td>40.80902</td>\n",
       "      <td>-73.94190</td>\n",
       "      <td>Private room</td>\n",
       "      <td>150</td>\n",
       "      <td>3</td>\n",
       "      <td>0</td>\n",
       "      <td>NaN</td>\n",
       "      <td>NaN</td>\n",
       "      <td>1</td>\n",
       "      <td>365</td>\n",
       "    </tr>\n",
       "    <tr>\n",
       "      <th>3</th>\n",
       "      <td>3831</td>\n",
       "      <td>Cozy Entire Floor of Brownstone</td>\n",
       "      <td>4869</td>\n",
       "      <td>LisaRoxanne</td>\n",
       "      <td>Brooklyn</td>\n",
       "      <td>Clinton Hill</td>\n",
       "      <td>40.68514</td>\n",
       "      <td>-73.95976</td>\n",
       "      <td>Entire home/apt</td>\n",
       "      <td>89</td>\n",
       "      <td>1</td>\n",
       "      <td>270</td>\n",
       "      <td>2019-07-05</td>\n",
       "      <td>4.64</td>\n",
       "      <td>1</td>\n",
       "      <td>194</td>\n",
       "    </tr>\n",
       "    <tr>\n",
       "      <th>4</th>\n",
       "      <td>5022</td>\n",
       "      <td>Entire Apt: Spacious Studio/Loft by central park</td>\n",
       "      <td>7192</td>\n",
       "      <td>Laura</td>\n",
       "      <td>Manhattan</td>\n",
       "      <td>East Harlem</td>\n",
       "      <td>40.79851</td>\n",
       "      <td>-73.94399</td>\n",
       "      <td>Entire home/apt</td>\n",
       "      <td>80</td>\n",
       "      <td>10</td>\n",
       "      <td>9</td>\n",
       "      <td>2018-11-19</td>\n",
       "      <td>0.10</td>\n",
       "      <td>1</td>\n",
       "      <td>0</td>\n",
       "    </tr>\n",
       "  </tbody>\n",
       "</table>\n",
       "</div>"
      ],
      "text/plain": [
       "     id                                              name  host_id  \\\n",
       "0  2539                Clean & quiet apt home by the park     2787   \n",
       "1  2595                             Skylit Midtown Castle     2845   \n",
       "2  3647               THE VILLAGE OF HARLEM....NEW YORK !     4632   \n",
       "3  3831                   Cozy Entire Floor of Brownstone     4869   \n",
       "4  5022  Entire Apt: Spacious Studio/Loft by central park     7192   \n",
       "\n",
       "     host_name neighbourhood_group neighbourhood  latitude  longitude  \\\n",
       "0         John            Brooklyn    Kensington  40.64749  -73.97237   \n",
       "1     Jennifer           Manhattan       Midtown  40.75362  -73.98377   \n",
       "2    Elisabeth           Manhattan        Harlem  40.80902  -73.94190   \n",
       "3  LisaRoxanne            Brooklyn  Clinton Hill  40.68514  -73.95976   \n",
       "4        Laura           Manhattan   East Harlem  40.79851  -73.94399   \n",
       "\n",
       "         room_type  price  minimum_nights  number_of_reviews last_review  \\\n",
       "0     Private room    149               1                  9  2018-10-19   \n",
       "1  Entire home/apt    225               1                 45  2019-05-21   \n",
       "2     Private room    150               3                  0         NaN   \n",
       "3  Entire home/apt     89               1                270  2019-07-05   \n",
       "4  Entire home/apt     80              10                  9  2018-11-19   \n",
       "\n",
       "   reviews_per_month  calculated_host_listings_count  availability_365  \n",
       "0               0.21                               6               365  \n",
       "1               0.38                               2               355  \n",
       "2                NaN                               1               365  \n",
       "3               4.64                               1               194  \n",
       "4               0.10                               1                 0  "
      ]
     },
     "execution_count": 1,
     "metadata": {},
     "output_type": "execute_result"
    }
   ],
   "source": [
    "# Load the data\n",
    "\n",
    "import pandas as pd\n",
    "\n",
    "#data = 'https://raw.githubusercontent.com/alexeygrigorev/datasets/master/AB_NYC_2019.csv'\n",
    "#!wget $data\n",
    "\n",
    "path = \"/home/mmc/Desktop/DataTalks/data/\"\n",
    "df_original = pd.read_csv(path + \"AB_NYC_2019.csv\")\n",
    "df_original.head()"
   ]
  },
  {
   "cell_type": "markdown",
   "id": "d53c873f",
   "metadata": {},
   "source": [
    "Look at the price variable. Does it have a long tail?"
   ]
  },
  {
   "cell_type": "code",
   "execution_count": 2,
   "id": "8de36ee7",
   "metadata": {},
   "outputs": [
    {
     "data": {
      "text/plain": [
       "<AxesSubplot:xlabel='price', ylabel='Count'>"
      ]
     },
     "execution_count": 2,
     "metadata": {},
     "output_type": "execute_result"
    },
    {
     "data": {
      "image/png": "[encoded data removed]",
      "text/plain": [
       "<Figure size 432x288 with 1 Axes>"
      ]
     },
     "metadata": {
      "needs_background": "light"
     },
     "output_type": "display_data"
    }
   ],
   "source": [
    "import matplotlib.pyplot as plt\n",
    "import seaborn as sns\n",
    "%matplotlib inline\n",
    "\n",
    "sns.histplot(df_original.price, bins=50)"
   ]
  },
  {
   "cell_type": "markdown",
   "id": "1c0a4714",
   "metadata": {},
   "source": [
    "The distribution has a heavy tail, we will later take the logarithm so it becomes more normal:"
   ]
  },
  {
   "cell_type": "code",
   "execution_count": 3,
   "id": "7aa8423f",
   "metadata": {},
   "outputs": [
    {
     "data": {
      "text/plain": [
       "<AxesSubplot:xlabel='price', ylabel='Count'>"
      ]
     },
     "execution_count": 3,
     "metadata": {},
     "output_type": "execute_result"
    },
    {
     "data": {
      "image/png": "[encoded data removed]",
      "text/plain": [
       "<Figure size 432x288 with 1 Axes>"
      ]
     },
     "metadata": {
      "needs_background": "light"
     },
     "output_type": "display_data"
    }
   ],
   "source": [
    "import numpy as np\n",
    "price_logs = np.log1p(df_original.price)\n",
    "sns.histplot(price_logs,bins = 50)"
   ]
  },
  {
   "cell_type": "markdown",
   "id": "d97aedc7",
   "metadata": {},
   "source": [
    "Features: for the rest of the homework, you'll need to use only these columns:\n",
    "\n",
    "    'latitude',\n",
    "    'longitude',\n",
    "    'price',\n",
    "    'minimum_nights',\n",
    "    'number_of_reviews',\n",
    "    'reviews_per_month',\n",
    "    'calculated_host_listings_count',\n",
    "    'availability_365'\n",
    "\n",
    "Select only them."
   ]
  },
  {
   "cell_type": "code",
   "execution_count": 4,
   "id": "fab3308b",
   "metadata": {},
   "outputs": [
    {
     "data": {
      "text/html": [
       "<div>\n",
       "<style scoped>\n",
       "    .dataframe tbody tr th:only-of-type {\n",
       "        vertical-align: middle;\n",
       "    }\n",
       "\n",
       "    .dataframe tbody tr th {\n",
       "        vertical-align: top;\n",
       "    }\n",
       "\n",
       "    .dataframe thead th {\n",
       "        text-align: right;\n",
       "    }\n",
       "</style>\n",
       "<table border=\"1\" class=\"dataframe\">\n",
       "  <thead>\n",
       "    <tr style=\"text-align: right;\">\n",
       "      <th></th>\n",
       "      <th>latitude</th>\n",
       "      <th>longitude</th>\n",
       "      <th>price</th>\n",
       "      <th>minimum_nights</th>\n",
       "      <th>number_of_reviews</th>\n",
       "      <th>reviews_per_month</th>\n",
       "      <th>calculated_host_listings_count</th>\n",
       "      <th>availability_365</th>\n",
       "    </tr>\n",
       "  </thead>\n",
       "  <tbody>\n",
       "    <tr>\n",
       "      <th>0</th>\n",
       "      <td>40.64749</td>\n",
       "      <td>-73.97237</td>\n",
       "      <td>149</td>\n",
       "      <td>1</td>\n",
       "      <td>9</td>\n",
       "      <td>0.21</td>\n",
       "      <td>6</td>\n",
       "      <td>365</td>\n",
       "    </tr>\n",
       "    <tr>\n",
       "      <th>1</th>\n",
       "      <td>40.75362</td>\n",
       "      <td>-73.98377</td>\n",
       "      <td>225</td>\n",
       "      <td>1</td>\n",
       "      <td>45</td>\n",
       "      <td>0.38</td>\n",
       "      <td>2</td>\n",
       "      <td>355</td>\n",
       "    </tr>\n",
       "    <tr>\n",
       "      <th>2</th>\n",
       "      <td>40.80902</td>\n",
       "      <td>-73.94190</td>\n",
       "      <td>150</td>\n",
       "      <td>3</td>\n",
       "      <td>0</td>\n",
       "      <td>NaN</td>\n",
       "      <td>1</td>\n",
       "      <td>365</td>\n",
       "    </tr>\n",
       "    <tr>\n",
       "      <th>3</th>\n",
       "      <td>40.68514</td>\n",
       "      <td>-73.95976</td>\n",
       "      <td>89</td>\n",
       "      <td>1</td>\n",
       "      <td>270</td>\n",
       "      <td>4.64</td>\n",
       "      <td>1</td>\n",
       "      <td>194</td>\n",
       "    </tr>\n",
       "    <tr>\n",
       "      <th>4</th>\n",
       "      <td>40.79851</td>\n",
       "      <td>-73.94399</td>\n",
       "      <td>80</td>\n",
       "      <td>10</td>\n",
       "      <td>9</td>\n",
       "      <td>0.10</td>\n",
       "      <td>1</td>\n",
       "      <td>0</td>\n",
       "    </tr>\n",
       "    <tr>\n",
       "      <th>...</th>\n",
       "      <td>...</td>\n",
       "      <td>...</td>\n",
       "      <td>...</td>\n",
       "      <td>...</td>\n",
       "      <td>...</td>\n",
       "      <td>...</td>\n",
       "      <td>...</td>\n",
       "      <td>...</td>\n",
       "    </tr>\n",
       "    <tr>\n",
       "      <th>48890</th>\n",
       "      <td>40.67853</td>\n",
       "      <td>-73.94995</td>\n",
       "      <td>70</td>\n",
       "      <td>2</td>\n",
       "      <td>0</td>\n",
       "      <td>NaN</td>\n",
       "      <td>2</td>\n",
       "      <td>9</td>\n",
       "    </tr>\n",
       "    <tr>\n",
       "      <th>48891</th>\n",
       "      <td>40.70184</td>\n",
       "      <td>-73.93317</td>\n",
       "      <td>40</td>\n",
       "      <td>4</td>\n",
       "      <td>0</td>\n",
       "      <td>NaN</td>\n",
       "      <td>2</td>\n",
       "      <td>36</td>\n",
       "    </tr>\n",
       "    <tr>\n",
       "      <th>48892</th>\n",
       "      <td>40.81475</td>\n",
       "      <td>-73.94867</td>\n",
       "      <td>115</td>\n",
       "      <td>10</td>\n",
       "      <td>0</td>\n",
       "      <td>NaN</td>\n",
       "      <td>1</td>\n",
       "      <td>27</td>\n",
       "    </tr>\n",
       "    <tr>\n",
       "      <th>48893</th>\n",
       "      <td>40.75751</td>\n",
       "      <td>-73.99112</td>\n",
       "      <td>55</td>\n",
       "      <td>1</td>\n",
       "      <td>0</td>\n",
       "      <td>NaN</td>\n",
       "      <td>6</td>\n",
       "      <td>2</td>\n",
       "    </tr>\n",
       "    <tr>\n",
       "      <th>48894</th>\n",
       "      <td>40.76404</td>\n",
       "      <td>-73.98933</td>\n",
       "      <td>90</td>\n",
       "      <td>7</td>\n",
       "      <td>0</td>\n",
       "      <td>NaN</td>\n",
       "      <td>1</td>\n",
       "      <td>23</td>\n",
       "    </tr>\n",
       "  </tbody>\n",
       "</table>\n",
       "<p>48895 rows × 8 columns</p>\n",
       "</div>"
      ],
      "text/plain": [
       "       latitude  longitude  price  minimum_nights  number_of_reviews  \\\n",
       "0      40.64749  -73.97237    149               1                  9   \n",
       "1      40.75362  -73.98377    225               1                 45   \n",
       "2      40.80902  -73.94190    150               3                  0   \n",
       "3      40.68514  -73.95976     89               1                270   \n",
       "4      40.79851  -73.94399     80              10                  9   \n",
       "...         ...        ...    ...             ...                ...   \n",
       "48890  40.67853  -73.94995     70               2                  0   \n",
       "48891  40.70184  -73.93317     40               4                  0   \n",
       "48892  40.81475  -73.94867    115              10                  0   \n",
       "48893  40.75751  -73.99112     55               1                  0   \n",
       "48894  40.76404  -73.98933     90               7                  0   \n",
       "\n",
       "       reviews_per_month  calculated_host_listings_count  availability_365  \n",
       "0                   0.21                               6               365  \n",
       "1                   0.38                               2               355  \n",
       "2                    NaN                               1               365  \n",
       "3                   4.64                               1               194  \n",
       "4                   0.10                               1                 0  \n",
       "...                  ...                             ...               ...  \n",
       "48890                NaN                               2                 9  \n",
       "48891                NaN                               2                36  \n",
       "48892                NaN                               1                27  \n",
       "48893                NaN                               6                 2  \n",
       "48894                NaN                               1                23  \n",
       "\n",
       "[48895 rows x 8 columns]"
      ]
     },
     "execution_count": 4,
     "metadata": {},
     "output_type": "execute_result"
    }
   ],
   "source": [
    "df = df_original.copy()\n",
    "df = df[['latitude','longitude', 'price','minimum_nights','number_of_reviews','reviews_per_month',\n",
    "'calculated_host_listings_count','availability_365']]\n",
    "df"
   ]
  },
  {
   "cell_type": "markdown",
   "id": "dffc6937",
   "metadata": {},
   "source": [
    "Visual normality check."
   ]
  },
  {
   "cell_type": "code",
   "execution_count": 5,
   "id": "def50bf4",
   "metadata": {},
   "outputs": [],
   "source": [
    "if False: # True:\n",
    "    fig, axes = plt.subplots(2, 4, figsize=(14, 6))\n",
    "    fig.suptitle('Histograms')\n",
    "\n",
    "    sns.histplot(ax=axes[0, 0], data= df.latitude, bins=50)\n",
    "    sns.histplot(ax=axes[0, 1], data= df.longitude, bins=50)\n",
    "    sns.histplot(ax=axes[0, 2], data= df.price, bins=50)\n",
    "    sns.histplot(ax=axes[0, 3], data= df.minimum_nights, bins=25)\n",
    "    sns.histplot(ax=axes[1, 0], data= df.number_of_reviews, bins=25)\n",
    "    sns.histplot(ax=axes[1, 1], data= df.reviews_per_month, bins=25)\n",
    "    sns.histplot(ax=axes[1, 2], data= df.calculated_host_listings_count, bins=25)\n",
    "    sns.histplot(ax=axes[1, 3], data= df.availability_365, bins=25)"
   ]
  },
  {
   "cell_type": "markdown",
   "id": "4a0891c3",
   "metadata": {},
   "source": [
    "Apply logarithm to those with a heavy tail."
   ]
  },
  {
   "cell_type": "code",
   "execution_count": 6,
   "id": "ecfdadb3",
   "metadata": {},
   "outputs": [],
   "source": [
    "if False:#True:\n",
    "    fig, axes = plt.subplots(2, 4, figsize=(14, 6))\n",
    "    fig.suptitle('Histograms')\n",
    "\n",
    "    price_log         = np.log1p(df.price)\n",
    "    min_nights_log    = np.log1p(df.minimum_nights)\n",
    "    no_reviews_log    = np.log1p(df.number_of_reviews)\n",
    "    reviews_month_log = np.log1p(df.reviews_per_month)\n",
    "    calc_host_listings_count_log  = np.log1p(df.calculated_host_listings_count)\n",
    "    avail_365_log = np.log1p(df.availability_365)\n",
    "         \n",
    "    sns.histplot(ax=axes[0, 0], data= df.latitude, bins=50)\n",
    "    sns.histplot(ax=axes[0, 1], data= df.longitude, bins=50)\n",
    "    sns.histplot(ax=axes[0, 2], data= price_log, bins=50)\n",
    "    sns.histplot(ax=axes[0, 3], data= min_nights_log, bins=25)\n",
    "    sns.histplot(ax=axes[1, 0], data= no_reviews_log, bins=25)\n",
    "    sns.histplot(ax=axes[1, 1], data= reviews_month_log, bins=25)\n",
    "    sns.histplot(ax=axes[1, 2], data= calc_host_listings_count_log, bins=25)\n",
    "    sns.histplot(ax=axes[1, 3], data= avail_365_log, bins=25)"
   ]
  },
  {
   "cell_type": "markdown",
   "id": "c503a3a0",
   "metadata": {},
   "source": [
    "### Question 1\n",
    "\n",
    "Find a feature with missing values. How many missing values does it have?"
   ]
  },
  {
   "cell_type": "code",
   "execution_count": 7,
   "id": "d2fc3023",
   "metadata": {},
   "outputs": [
    {
     "data": {
      "text/plain": [
       "latitude                              0\n",
       "longitude                             0\n",
       "price                                 0\n",
       "minimum_nights                        0\n",
       "number_of_reviews                     0\n",
       "reviews_per_month                 10052\n",
       "calculated_host_listings_count        0\n",
       "availability_365                      0\n",
       "dtype: int64"
      ]
     },
     "execution_count": 7,
     "metadata": {},
     "output_type": "execute_result"
    }
   ],
   "source": [
    "df.isnull().sum()"
   ]
  },
  {
   "cell_type": "markdown",
   "id": "6dc7107e",
   "metadata": {},
   "source": [
    "### Question 2\n",
    "\n",
    "What's the median (50% percentile) for variable 'minimum_nights'?"
   ]
  },
  {
   "cell_type": "code",
   "execution_count": 8,
   "id": "813e3cb0",
   "metadata": {},
   "outputs": [
    {
     "data": {
      "text/plain": [
       "3.0"
      ]
     },
     "execution_count": 8,
     "metadata": {},
     "output_type": "execute_result"
    }
   ],
   "source": [
    "np.median(df.minimum_nights.values)"
   ]
  },
  {
   "cell_type": "code",
   "execution_count": 9,
   "id": "4b10dbc3",
   "metadata": {},
   "outputs": [
    {
     "name": "stdout",
     "output_type": "stream",
     "text": [
      "[3 3 3 3 3]\n"
     ]
    },
    {
     "data": {
      "text/plain": [
       "[<matplotlib.lines.Line2D at 0x7f3673e3a1f0>]"
      ]
     },
     "execution_count": 9,
     "metadata": {},
     "output_type": "execute_result"
    },
    {
     "data": {
      "image/png": "[encoded data removed]",
      "text/plain": [
       "<Figure size 432x288 with 1 Axes>"
      ]
     },
     "metadata": {
      "needs_background": "light"
     },
     "output_type": "display_data"
    }
   ],
   "source": [
    "print(np.sort(df[\"minimum_nights\"])[24445:24450])  # 48895/2 = 24447\n",
    "plt.plot(np.sort(df[\"minimum_nights\"]),'*')"
   ]
  },
  {
   "cell_type": "markdown",
   "id": "96744c3b",
   "metadata": {},
   "source": [
    "### Split the data\n",
    "\n",
    "+ Shuffle the initial dataset, use seed 42.\n",
    "+ Split your data in train/val/test sets, with 60%/20%/20% distribution.\n",
    "+ Make sure that the target value ('price') is not in your dataframe.\n",
    "+ Apply the log transformation to the price variable using the np.log1p() function.\n"
   ]
  },
  {
   "cell_type": "code",
   "execution_count": 10,
   "id": "9eea8e3c",
   "metadata": {},
   "outputs": [],
   "source": [
    "n = len(df)\n",
    "\n",
    "n_val = int(0.2 * n)\n",
    "n_test = int(0.2 * n)\n",
    "n_train = n - (n_val + n_test)\n",
    "\n",
    "np.random.seed(42)\n",
    "idx = np.arange(n)\n",
    "np.random.shuffle(idx)\n",
    "\n",
    "df_shuffled = df.iloc[idx]\n",
    "\n",
    "# the features\n",
    "df_train = df_shuffled.iloc[:n_train].copy()\n",
    "df_val = df_shuffled.iloc[n_train:n_train+n_val].copy()\n",
    "df_test = df_shuffled.iloc[n_train+n_val:].copy()\n",
    "\n",
    "# the target: take logarithm to make the heavy tail distribution more normal\n",
    "y_train = np.log1p(df_train.price.values)\n",
    "y_val = np.log1p(df_val.price.values)\n",
    "y_test = np.log1p(df_test.price.values)\n",
    "\n",
    "# remove target from the features matrix\n",
    "del df_train['price']\n",
    "del df_val['price']\n",
    "del df_test['price']"
   ]
  },
  {
   "cell_type": "markdown",
   "id": "104dd344",
   "metadata": {},
   "source": [
    "### Question 3\n",
    "\n",
    "We need to deal with missing values for the column from Q1.\n",
    "\n",
    "We have two options: fill it with 0 or with the mean of this variable. Try both options. For computing the mean, use the training only!\n",
    "\n",
    "For each, train a linear regression model without regularization using the code from the lesssons.\n",
    "\n",
    "Use the validation dataset to evaluate the models and compare the RMSE of each option.\n",
    "\n",
    "Round the RMSE scores to 2 decimal digits using round(score, 2)\n",
    "\n",
    "Which option gives better RMSE?"
   ]
  },
  {
   "cell_type": "code",
   "execution_count": 11,
   "id": "dfd0a27f",
   "metadata": {},
   "outputs": [],
   "source": [
    "# DEFINE FUNCIONS\n",
    "\n",
    "# Prepare data\n",
    "def prepare_X_zero(df):\n",
    "    df = df.copy()\n",
    "    df.reviews_per_month = df.reviews_per_month.fillna(0) # replace NaNs with zeros\n",
    "    X = df.values  # convert to np array\n",
    "    return X\n",
    "\n",
    "rev_train_mean = df_train.reviews_per_month.mean() # calculate the mean of the training set\n",
    "def prepare_X_mean(df, mean = rev_train_mean):\n",
    "    df = df.copy()\n",
    "    df.reviews_per_month = df.reviews_per_month.fillna(mean) # replace NaNs with the mean of the training set\n",
    "    X = df.values  # convert to np array\n",
    "    return X\n",
    "\n",
    "# Train model  \n",
    "def train_linear_regression(X, y):  \n",
    "    ones = np.ones(X.shape[0])\n",
    "    X = np.column_stack([ones, X])\n",
    "\n",
    "    XTX = X.T.dot(X)\n",
    "    XTX_inv = np.linalg.inv(XTX)\n",
    "    w = XTX_inv.dot(X.T).dot(y)\n",
    "    \n",
    "    return w[0], w[1:]\n",
    "\n",
    "# Metric to evaluate the model performance\n",
    "def rmse(y, y_pred):\n",
    "    error = y_pred - y\n",
    "    se = error ** 2\n",
    "    mse = se.mean()\n",
    "    return np.sqrt(mse)"
   ]
  },
  {
   "cell_type": "code",
   "execution_count": 12,
   "id": "19196d3e",
   "metadata": {},
   "outputs": [
    {
     "name": "stdout",
     "output_type": "stream",
     "text": [
      "RMSE for training: 0.64\n",
      "RMSE for validation: 0.64\n"
     ]
    }
   ],
   "source": [
    "# OPTION 1: Replacing NaNs with zero\n",
    "if True:#False:#True:\n",
    "\n",
    "    # run\n",
    "    X_train = prepare_X_zero(df_train)  # prepare data\n",
    "    w_0, w = train_linear_regression(X_train, y_train)# run the model to get prediction\n",
    "    y_pred = w_0 + X_train.dot(w)  # apply model\n",
    "    metric = rmse(y_train, y_pred) # evaluate metric\n",
    "    print(\"RMSE for training:\", metric.round(2)) \n",
    "\n",
    "    # validate\n",
    "    X_val = prepare_X_zero(df_val)  # prepare data\n",
    "    y_pred = w_0 + X_val.dot(w)  # apply model, DO NOT RUN IT AGAIN\n",
    "    metric = rmse(y_val, y_pred) # evaluate metric\n",
    "    print(\"RMSE for validation:\", metric.round(2)) \n",
    "#RMSE for training: 0.6428860484860427\n",
    "#RMSE for validation: 0.643033778856463"
   ]
  },
  {
   "cell_type": "code",
   "execution_count": 13,
   "id": "44edbe59",
   "metadata": {},
   "outputs": [],
   "source": [
    "# OPTION 2: Replacing NaNs with train mean\n",
    "if False:#True:\n",
    "    \n",
    "    # run\n",
    "    X_train = prepare_X_mean(df_train)  # prepare data\n",
    "    w_0, w = train_linear_regression(X_train, y_train)# run the model to get prediction\n",
    "    y_pred = w_0 + X_train.dot(w)  # apply model\n",
    "    metric = rmse(y_train, y_pred) # evaluate metric\n",
    "    print(\"RMSE for training:\", metric.round(2)) \n",
    "    \n",
    "    # validate\n",
    "    X_val = prepare_X_mean(df_val)  # prepare data\n",
    "    y_pred = w_0 + X_val.dot(w)  # apply model, DO NOT RUN IT AGAIN\n",
    "    metric = rmse(y_val, y_pred) # evaluate metric\n",
    "    print(\"RMSE for validation:\", metric.round(2))\n",
    "\n",
    "    #RMSE for training: 0.6429347474014219\n",
    "    #RMSE for validation: 0.6427545031776444"
   ]
  },
  {
   "cell_type": "markdown",
   "id": "cac69668",
   "metadata": {},
   "source": [
    "Both options give similar RMSE"
   ]
  },
  {
   "cell_type": "markdown",
   "id": "025332e0",
   "metadata": {},
   "source": [
    "### Question 4\n",
    "\n",
    "Now let's train a regularized linear regression.\n",
    "\n",
    "For this question, fill the NANs with 0 (so we set \"False\" in the cell that uses the mean above).\n",
    "\n",
    "Try different values of r from this list: [0, 0.000001, 0.0001, 0.001, 0.01, 0.1, 1, 5, 10].\n",
    "\n",
    "Use RMSE to evaluate the model on the validation dataset.\n",
    "\n",
    "Round the RMSE scores to 2 decimal digits.\n",
    "\n",
    "Which r gives the best RMSE? If there are multiple options, select the smallest r."
   ]
  },
  {
   "cell_type": "code",
   "execution_count": 14,
   "id": "c5a1a055",
   "metadata": {},
   "outputs": [
    {
     "name": "stdout",
     "output_type": "stream",
     "text": [
      "0 -419.91265872315813 0.64\n",
      "1e-06 -419.8627156612891 0.64\n",
      "0.0001 -414.97649241546526 0.64\n",
      "0.001 -375.2736526945097 0.64\n",
      "0.01 -191.7838405121791 0.66\n",
      "0.1 -32.56256055279646 0.68\n",
      "1 -3.499216837025976 0.68\n",
      "5 -0.7033623164576596 0.68\n",
      "10 -0.35127676049422046 0.68\n"
     ]
    }
   ],
   "source": [
    "def train_linear_regression_reg(X, y, r=0.001):\n",
    "    ones = np.ones(X.shape[0])\n",
    "    X = np.column_stack([ones, X])\n",
    "\n",
    "    XTX = X.T.dot(X)\n",
    "    XTX = XTX + r * np.eye(XTX.shape[0])\n",
    "\n",
    "    XTX_inv = np.linalg.inv(XTX)\n",
    "    w_full = XTX_inv.dot(X.T).dot(y)\n",
    "    \n",
    "    return w_full[0], w_full[1:]\n",
    "\n",
    "\n",
    "for r in [0, 0.000001, 0.0001, 0.001, 0.01, 0.1, 1, 5, 10]:\n",
    "    X_train = prepare_X_zero(df_train)\n",
    "    w0, w = train_linear_regression_reg(X_train, y_train, r=r)\n",
    "\n",
    "    X_val = prepare_X_zero(df_val)\n",
    "    y_pred = w0 + X_val.dot(w)\n",
    "    score = rmse(y_val, y_pred)\n",
    "    \n",
    "    print(r, w0, score.round(2))"
   ]
  },
  {
   "cell_type": "markdown",
   "id": "e8db1024",
   "metadata": {},
   "source": [
    "### Question 5\n",
    "\n",
    "We used seed 42 for splitting the data. Let's find out how selecting the seed influences our score.\n",
    "    \n",
    "Try different seed values: [0, 1, 2, 3, 4, 5, 6, 7, 8, 9].\n",
    "    \n",
    "For each seed, do the train/validation/test split with 60%/20%/20% distribution.\n",
    "    \n",
    "Fill the missing values with 0 and train a model without regularization.\n",
    "\n",
    "For each seed, evaluate the model on the validation dataset and collect the RMSE scores.\n",
    "\n",
    "What's the standard deviation of all the scores? To compute the standard deviation, use np.std.\n",
    "\n",
    "Round the result to 3 decimal digits (round(std, 3))\n",
    "\n",
    "Note: Standard deviation shows how different the values are. If it's low, then all values are approximately the same. If it's high, the values are different. If standard deviation of scores is low, then our model is stable.\n"
   ]
  },
  {
   "cell_type": "code",
   "execution_count": 15,
   "id": "3e9a41ff",
   "metadata": {},
   "outputs": [
    {
     "name": "stdout",
     "output_type": "stream",
     "text": [
      "0\n",
      "RMSE for validation with seed 0 is 0.655\n",
      "1\n",
      "RMSE for validation with seed 1 is 0.646\n",
      "2\n",
      "RMSE for validation with seed 2 is 0.648\n",
      "3\n",
      "RMSE for validation with seed 3 is 0.638\n",
      "4\n",
      "RMSE for validation with seed 4 is 0.645\n",
      "5\n",
      "RMSE for validation with seed 5 is 0.631\n",
      "6\n",
      "RMSE for validation with seed 6 is 0.63\n",
      "7\n",
      "RMSE for validation with seed 7 is 0.651\n",
      "8\n",
      "RMSE for validation with seed 8 is 0.649\n",
      "9\n",
      "RMSE for validation with seed 9 is 0.644\n"
     ]
    }
   ],
   "source": [
    "seeds = [0, 1, 2, 3, 4, 5, 6, 7, 8, 9]\n",
    "scores = []\n",
    "\n",
    "for my_seed in seeds:\n",
    "    print(my_seed)\n",
    "    df_s = df.copy()\n",
    "    \n",
    "    np.random.seed(my_seed)\n",
    "    idx = np.arange(n)\n",
    "    np.random.shuffle(idx)\n",
    "    df_s_shuffled = df_s.iloc[idx]\n",
    "    \n",
    "    # the features\n",
    "    df_s_train = df_s_shuffled.iloc[:n_train]\n",
    "    df_s_val = df_s_shuffled.iloc[n_train:n_train+n_val]\n",
    "    \n",
    "    # the target: take logarithm to make the heavy tail distribution more normal\n",
    "    y_s_train = np.log1p(df_s_train.price.values)\n",
    "    y_s_val = np.log1p(df_s_val.price.values)\n",
    "\n",
    "    # remove target from the features matrix\n",
    "    del df_s_train['price']\n",
    "    del df_s_val['price']\n",
    "    \n",
    "    # run\n",
    "    X_train = prepare_X_zero(df_s_train)  # prepare data\n",
    "    w_0, w = train_linear_regression(X_train, y_s_train)# run the model to get prediction\n",
    "    y_s_pred = w_0 + X_train.dot(w)  # apply model\n",
    "    \n",
    "    # validate\n",
    "    X_val = prepare_X_zero(df_s_val)  # prepare data\n",
    "    y_s_pred = w_0 + X_val.dot(w)  # apply model\n",
    "    metric = rmse(y_s_val, y_s_pred) # evaluate metric\n",
    "    print(\"RMSE for validation with seed\", my_seed, \"is\", metric.round(3)) \n",
    "    \n",
    "    scores.append(metric.round(3))"
   ]
  },
  {
   "cell_type": "code",
   "execution_count": 16,
   "id": "9d08c648",
   "metadata": {},
   "outputs": [
    {
     "name": "stdout",
     "output_type": "stream",
     "text": [
      "[0.655, 0.646, 0.648, 0.638, 0.645, 0.631, 0.63, 0.651, 0.649, 0.644]\n",
      "STD of scores: 0.008\n"
     ]
    }
   ],
   "source": [
    "print(scores)\n",
    "# std of the scores\n",
    "print(\"STD of scores:\",np.std(scores).round(3))"
   ]
  },
  {
   "cell_type": "markdown",
   "id": "8de98636",
   "metadata": {},
   "source": [
    "### Question 6\n",
    "\n",
    "Split the dataset like previously, use seed 9.\n",
    "\n",
    "Combine train and validation datasets.\n",
    "\n",
    "Fill the missing values with 0 and train a model with r=0.001.\n",
    "\n",
    "What's the RMSE on the test dataset?"
   ]
  },
  {
   "cell_type": "code",
   "execution_count": 17,
   "id": "ccc7933d",
   "metadata": {},
   "outputs": [
    {
     "name": "stdout",
     "output_type": "stream",
     "text": [
      "RMSE of the model on the test data set is 0.65\n"
     ]
    }
   ],
   "source": [
    "df1 = df_original.copy()\n",
    "df1 = df[['latitude','longitude', 'price','minimum_nights','number_of_reviews','reviews_per_month',\n",
    "'calculated_host_listings_count','availability_365']]\n",
    "\n",
    "my_seed = 9\n",
    "np.random.seed(my_seed)\n",
    "idx = np.arange(n)\n",
    "np.random.shuffle(idx)\n",
    "df1_shuffled = df1.iloc[idx]\n",
    "\n",
    "    \n",
    "# the features\n",
    "df1_train = df1_shuffled.iloc[:n_train]\n",
    "df1_val = df1_shuffled.iloc[n_train:n_train+n_val]\n",
    "df1_test = df1_shuffled.iloc[n_train+n_val:]\n",
    "\n",
    "# the target: take logarithm to make the heavy tail distribution more normal\n",
    "y1_train = np.log1p(df1_train.price.values)\n",
    "y1_val = np.log1p(df1_val.price.values)\n",
    "y1_test = np.log1p(df1_test.price.values)\n",
    "\n",
    "# remove target from the features matrix\n",
    "del df1_train['price']\n",
    "del df1_val['price']\n",
    "del df1_test['price']\n",
    "\n",
    "# join the train and val data sets\n",
    "df_full_train = pd.concat([df1_train, df1_val]).reset_index(drop=True)\n",
    "y_full_train = np.concatenate([y1_train, y1_val])\n",
    "\n",
    "# fill nans with zeros and convert to np.array\n",
    "X_full_train = prepare_X_zero(df_full_train) \n",
    "\n",
    "# define train function with regularzation\n",
    "def train_linear_regression_reg(X, y, r=0.001):\n",
    "    ones = np.ones(X.shape[0])\n",
    "    X = np.column_stack([ones, X])\n",
    "\n",
    "    XTX = X.T.dot(X)\n",
    "    XTX = XTX + r * np.eye(XTX.shape[0])\n",
    "\n",
    "    XTX_inv = np.linalg.inv(XTX)\n",
    "    w_full = XTX_inv.dot(X.T).dot(y)\n",
    "    \n",
    "    return w_full[0], w_full[1:]\n",
    "\n",
    "# train with the training and validation sets together\n",
    "w0, w = train_linear_regression_reg(X_full_train, y_full_train, r=0.001)\n",
    "\n",
    "# apply on test\n",
    "X_test = prepare_X_zero(df1_test)\n",
    "y1_pred = w0 + X_test.dot(w)\n",
    "score = rmse(y1_test, y1_pred)\n",
    "print(\"RMSE of the model on the test data set is\",score.round(2))"
   ]
  }
 ],
 "metadata": {
  "kernelspec": {
   "display_name": "Python 3",
   "language": "python",
   "name": "python3"
  },
  "language_info": {
   "codemirror_mode": {
    "name": "ipython",
    "version": 3
   },
   "file_extension": ".py",
   "mimetype": "text/x-python",
   "name": "python",
   "nbconvert_exporter": "python",
   "pygments_lexer": "ipython3",
   "version": "3.9.1"
  }
 },
 "nbformat": 4,
 "nbformat_minor": 5
}
